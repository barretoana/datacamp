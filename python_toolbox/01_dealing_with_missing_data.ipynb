{
 "metadata": {
  "language_info": {
   "codemirror_mode": {
    "name": "ipython",
    "version": 3
   },
   "file_extension": ".py",
   "mimetype": "text/x-python",
   "name": "python",
   "nbconvert_exporter": "python",
   "pygments_lexer": "ipython3",
   "version": "3.8.3-final"
  },
  "orig_nbformat": 2,
  "kernelspec": {
   "name": "python_defaultSpec_1600120348367",
   "display_name": "Python 3.8.3 64-bit"
  }
 },
 "nbformat": 4,
 "nbformat_minor": 2,
 "cells": [
  {
   "cell_type": "markdown",
   "metadata": {},
   "source": [
    "## dealing with\n",
    "# missing data\n",
    "\n",
    "\n",
    "---\n"
   ]
  },
  {
   "source": [
    "### Why does missing data exist? \n",
    "- Real world data is messy!\n",
    "- Values can be missed during data acquisition process (falty sensors, human error...)\n",
    "- Values can be deleted accidentaly \n",
    "\n",
    "### Workflow for treating missing data: <br>\n",
    "1. Convert all missing values to null <br>\n",
    "2. Analyze the amount and type of missingness <br>\n",
    "3. Delete or impute missing Values <br>\n",
    "4. Evaluate and compare the performance of the treated/imputed dataset <br>\n",
    "\n",
    "** make a copy of the original df, it can be useful for comparisons later on! \n",
    "\n",
    "### Null value operations\n",
    "\n",
    "- **None != np.nan** <br><br>\n",
    "None = NoneType, supports logical operations <br>\n",
    "np.nan = float, \"not a number\" (undefined), supports logical and arithmetic operations\n",
    "\n",
    "#### Checking for nulls: \n",
    "```python \n",
    "    np.isnan(np.nan) # true\n",
    "\n",
    "    None == None #true\n",
    "    \n",
    "    np.nan == np.nan #false \n",
    "```"
   ],
   "cell_type": "markdown",
   "metadata": {}
  },
  {
   "source": [
    "### Missing Values \n",
    "Detect and replace <br> \n",
    "examples: 'NA','-', '.', '?', numbers out of range, wrong data type\n",
    "\n",
    "**1st step**: read and print snippet (i.e. head or info) of dataset <br>\n",
    "```python\n",
    "    df.info() #range index, data columns (name, quatity and type), dtypes\n",
    "    df.csat.unique() #show unique values\n",
    "    np.sort() # sort values\n",
    "    df.describe() #statitical info\n",
    "\n",
    "```\n",
    "**2nd step**: detect what is missing data (inherit or values) <br>\n",
    "\n",
    "**3rd step**: replace missing values () <br> \n",
    "```python\n",
    "    #on import\n",
    "    pd.read_csv('dataset.csv', na_values='.')\n",
    "```\n",
    "\n",
    "<br>\n",
    "**extra points for domain knowledge, knowing the context makes for better data analysis "
   ],
   "cell_type": "markdown",
   "metadata": {}
  },
  {
   "source": [
    "### Analyze the amount of missingness\n",
    "\n",
    "**Basic analises**: find the total number and percentage in the dataset \n",
    "```python\n",
    "    df.isnull() #returns nullity array\n",
    "    df.isna() \n",
    "    \n",
    "```\n",
    "\n",
    "#### Nullity Bar \n",
    "```python\n",
    "    df_nullity = df.isnull() \n",
    "    df_nullity.sum() #total quantity\n",
    "    df_nullity.mean() * 100 #percentage\n",
    "```"
   ],
   "cell_type": "markdown",
   "metadata": {}
  },
  {
   "source": [
    "### Missingno package \n",
    "graphical analyses of missing values \n",
    "\n",
    "```python\n",
    "    import missingno as msno \n",
    "    msno.bar(df) #completness of the dataframe \n",
    "```\n",
    "#### Nullity matrix \n",
    "```python\n",
    "    msno.matrix(df, freq='') \n",
    "```\n",
    "\n",
    "- use 'loc' to extract parts of the dataframe for analysis ;)"
   ],
   "cell_type": "markdown",
   "metadata": {}
  },
  {
   "source": [
    "### Possible reasons for missing data\n",
    "Random; or due to another variable\n",
    "\n",
    "### Types\n",
    "- Missing Completely at Random (MCAR): no pattern between variables\n",
    "- Missing At Random (MAR): there might exist a relationship with another variable; there might be a reason that cannot be observed; \n",
    "- Missing Not At Random (MNAR): relationship between missingness and its values; \n",
    "\n",
    "Identifying the types helps narrow the methodology to deal with them;"
   ],
   "cell_type": "markdown",
   "metadata": {}
  },
  {
   "source": [
    "### Finding correlations between missingness\n",
    "\n",
    "- Heatmap \n",
    "```python \n",
    "    msno.heatmap(df) #color red means lower correlation\n",
    "```\n",
    "\n",
    "- Dendogram: tree diagram of missingness, describes correlation by grouping then\n",
    "```python \n",
    "    msno.dendogram() \n",
    "```"
   ],
   "cell_type": "markdown",
   "metadata": {}
  },
  {
   "source": [
    "### Visualizing missingness across a variable\n",
    "\n",
    "- Plotting the values in a scatter plot \n",
    "- Fill the NaN with random values (dummy values) \n",
    "- Prepare the dataframe to see the correlation of nullity between variables"
   ],
   "cell_type": "markdown",
   "metadata": {}
  },
  {
   "source": [
    "### When and how to delete missing data \n",
    "\n",
    "Types of deletion for MCAR: \n",
    "- Pairwaise deletion: skip NaN values on operations \n",
    "\n",
    "- Listwise deletion: the row is deleted\n",
    "\n",
    "```python\n",
    "    df.dropna(subset = ['n'], how='any', inplace = True)\n",
    "```\n",
    "\n",
    "! Attention to the amount of data lost, use only for small number of missing values; "
   ],
   "cell_type": "markdown",
   "metadata": {}
  },
  {
   "source": [
    "### Basic Imputation Techniques \n",
    "Using the column where the value is missing\n",
    "- constant (0, 1)\n",
    "- statistical parameter: mean, median, mode </br>\n",
    "! When you reserve the statistical value, but don't account for the correlations = BIASED DATA \n",
    "\n",
    "- Using a ML model: SimpleImputer (sklearn) \n",
    "\n",
    "! Visualize imputations with subplots to check validity"
   ],
   "cell_type": "markdown",
   "metadata": {}
  },
  {
   "source": [
    "### Imputing Time-Series Data \n",
    "Time-Series is a series of data points indexed in time order. </br> ~discrete-time data = separate points in time\n",
    "\n",
    "#### df.fillna(method=\" \")\n",
    "- ffill: replace all NaN with the last observed value \n",
    "- bfill: replace all NaN with the following observed value \n",
    "\n",
    "! this method creates laterality in the dataset\n",
    "\n",
    "#### df.interpolate(method=\"\") \n",
    "- linear: input linearly or with equidistant values </br> \n",
    "10 ___ 30 = 10 20 30 <br>\n",
    "! can create impression of trend\n",
    "\n",
    "- quadratic: takes a quadratic approach </br> ! overshoots values\n",
    "- nearestvalue: ffill + bfill </br> ! same problem of laterality \n",
    "\n",
    "> \"Time-Series data usually comes with special characteristics (trend, seasonality, cyclicality) </br> which we can exploit when imputing missing values\"\n",
    "\n",
    "\n",
    "### Visualizing Time-Series Imputations \n",
    "- compare options graphically to decide which is the best\n",
    "\n",
    ">\"Plotting comparative graphs is essential for inferring the best imputation technique\""
   ],
   "cell_type": "markdown",
   "metadata": {}
  },
  {
   "source": [
    "### Imputing Using Fancy Impute\n",
    "fancyimpute package contains ML algorithms to impute missing values \n",
    "\n",
    "Advanced Technique: uses other columns to predict missing values \n",
    "\n",
    "- KNN (K-Nearest-Neighbor) <br>\n",
    "Selects K nearest or similar data points using all the non-missing features; <br>\n",
    "Takes advantage of the selected data points to fill in missing value \n",
    "\n",
    "```python\n",
    "    from fancyimpute import KNN\n",
    "    knn_imputer = KNN() \n",
    "    df.iloc[:,:] = knn_imputer.fit_transform(df) #implace\n",
    "```\n",
    "\n",
    "- MICE (Multiple Imputations by Chained Equations) <br> \n",
    "Performs multiple regressions over random samples of data <br>\n",
    "Takes the avarege of the multiple regression <br>\n",
    "Impute missing feature value for the data point <br>\n",
    "    IterativeImputer \n",
    "\n",
    "> Datasets always have features which are correlated. Hence it becomes important to consider them as a factor for imputing missing valuer. <br> Machine Learning Models use features in the DF to find correlation and patterns and predict a selected feature."
   ],
   "cell_type": "markdown",
   "metadata": {}
  },
  {
   "source": [
    "### Imputing Categorical Data\n",
    "Categorical data is usually strings\n",
    "\n",
    "#### 1st step: encode categories\n",
    "    Techniques: \n",
    "- one hot encoder: one column per category; only 0 and 1; <br>\n",
    "ex: \"color\" becomes \"color_red\", \"color_blue\", \"color_green\"\n",
    "\n",
    "- ordinal encoder: one column for all, each category recieves a value \n",
    "ex: in \"color\" red = 1, blue = 2, green = 3; \n",
    "\n",
    "```python\n",
    "    from sklearn.preprocessing import OrdinalEncoding\n",
    "```\n",
    "\n",
    "#### 2nd step: impute! \n",
    "- Fill most frequent category; \n",
    "- Use statistical models \n",
    "\n",
    "#### 3rd step: convert the columns back to categorical values "
   ],
   "cell_type": "markdown",
   "metadata": {}
  },
  {
   "source": [
    "### Evaluation of different imputation techniques \n",
    "Imputations are used to improve model performance; maximum ML model performance is selected; <br>\n",
    "\n",
    "Techniques: \n",
    "Applying the linear model from the stats model (statsmodel.api package); <br>\n",
    "comparing the coefficients and standard error; <br>\n",
    "comparing density plots;\n",
    "\n",
    "#### Density Plots <br>\n",
    "Explain the distribution of data, a good way to check for bias. \n",
    "\n",
    "#### Linear Regression Models \n",
    "- R-Squared explains accuracy \n",
    "- Coefficients explains the model itself \n"
   ],
   "cell_type": "markdown",
   "metadata": {}
  },
  {
   "source": [
    "---\n",
    "### docs"
   ],
   "cell_type": "markdown",
   "metadata": {}
  }
 ]
}