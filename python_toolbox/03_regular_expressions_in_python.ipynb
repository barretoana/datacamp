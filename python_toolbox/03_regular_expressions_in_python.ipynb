{
 "metadata": {
  "language_info": {
   "codemirror_mode": {
    "name": "ipython",
    "version": 3
   },
   "file_extension": ".py",
   "mimetype": "text/x-python",
   "name": "python",
   "nbconvert_exporter": "python",
   "pygments_lexer": "ipython3",
   "version": "3.8.3-final"
  },
  "orig_nbformat": 2,
  "kernelspec": {
   "name": "Python 3.8.3 64-bit",
   "display_name": "Python 3.8.3 64-bit",
   "metadata": {
    "interpreter": {
     "hash": "082e9a3bcad0a290d0001e938aa60b99250c6c2ef33a923c00b70f9826caf4b7"
    }
   }
  }
 },
 "nbformat": 4,
 "nbformat_minor": 2,
 "cells": [
  {
   "cell_type": "markdown",
   "metadata": {},
   "source": [
    "## regular expressions \n",
    "# in Python\n",
    "\n",
    "\n",
    "---\n"
   ]
  },
  {
   "source": [
    "### Introduction to String Manipulation \n",
    "\n",
    "\n",
    "\n"
   ],
   "cell_type": "markdown",
   "metadata": {}
  },
  {
   "cell_type": "code",
   "execution_count": 22,
   "metadata": {},
   "outputs": [
    {
     "output_type": "display_data",
     "data": {
      "text/plain": "\"let's try this out! \""
     },
     "metadata": {}
    },
    {
     "output_type": "display_data",
     "data": {
      "text/plain": "20"
     },
     "metadata": {}
    }
   ],
   "source": [
    "str1 = \"let's try \"\n",
    "str2 = \"this out! \"\n",
    "\n",
    "concat = str1 + str2\n",
    "length = len(concat)\n",
    "\n",
    "display(concat, length)"
   ]
  },
  {
   "source": [
    "### Indexing"
   ],
   "cell_type": "markdown",
   "metadata": {}
  },
  {
   "cell_type": "code",
   "execution_count": 14,
   "metadata": {},
   "outputs": [
    {
     "output_type": "display_data",
     "data": {
      "text/plain": "'t'"
     },
     "metadata": {}
    },
    {
     "output_type": "display_data",
     "data": {
      "text/plain": "'!'"
     },
     "metadata": {}
    },
    {
     "output_type": "display_data",
     "data": {
      "text/plain": "\"'s \""
     },
     "metadata": {}
    },
    {
     "output_type": "display_data",
     "data": {
      "text/plain": "'ltstyti u!'"
     },
     "metadata": {}
    },
    {
     "output_type": "display_data",
     "data": {
      "text/plain": "\"!tuo siht yrt s'tel\""
     },
     "metadata": {}
    }
   ],
   "source": [
    "display(concat[2], #indexing starts at 0\n",
    "        concat[-1], #negative start from last position\n",
    "        concat[3:6], #this is a substring\n",
    "        concat[0:19:2], #this is a substring skipping every other chat \n",
    "        concat[::-1]) #this reverses the string\n",
    "\n",
    "# ! in substrings starting position is inclusive, ending is exclusive"
   ]
  },
  {
   "source": [
    "### String Operations "
   ],
   "cell_type": "markdown",
   "metadata": {}
  },
  {
   "cell_type": "code",
   "execution_count": 30,
   "metadata": {
    "tags": []
   },
   "outputs": [
    {
     "output_type": "display_data",
     "data": {
      "text/plain": "\"let's try this out! \""
     },
     "metadata": {}
    },
    {
     "output_type": "display_data",
     "data": {
      "text/plain": "\"LET'S TRY THIS OUT! \""
     },
     "metadata": {}
    },
    {
     "output_type": "display_data",
     "data": {
      "text/plain": "\"Let's try this out! \""
     },
     "metadata": {}
    },
    {
     "output_type": "display_data",
     "data": {
      "text/plain": "[\"let's\", 'try', 'this', 'out!', '']"
     },
     "metadata": {}
    },
    {
     "output_type": "display_data",
     "data": {
      "text/plain": "\"let's try this out!\""
     },
     "metadata": {}
    }
   ],
   "source": [
    "display(concat.lower(), \n",
    "        concat.upper(), \n",
    "        concat.capitalize(), \n",
    "        concat.split(sep=' '), #returns a list of string \n",
    "        concat.strip()) #removes leading and trailing spaces, can receive parameters, rstrip and lstrip are also a thing"
   ]
  },
  {
   "cell_type": "code",
   "execution_count": 28,
   "metadata": {
    "tags": []
   },
   "outputs": [
    {
     "output_type": "stream",
     "name": "stdout",
     "text": "Oh... \n is this a new line? yes honey \n it was\n"
    }
   ],
   "source": [
    "str3 = \"Oh... \\n is this a new line?\"\n",
    "str4 = \"yes honey \\n it was\"\n",
    "\n",
    "print(str3, str4)"
   ]
  },
  {
   "cell_type": "code",
   "execution_count": 37,
   "metadata": {},
   "outputs": [
    {
     "output_type": "display_data",
     "data": {
      "text/plain": "['Oh... ', ' is this a new line?']"
     },
     "metadata": {}
    },
    {
     "output_type": "display_data",
     "data": {
      "text/plain": "'Oh... \\n is this a new line?Oh... \\n is this a new line?Oh... \\n is this a new line?Oh... \\n is this a new line?Oh... \\n is this a new line?'"
     },
     "metadata": {}
    }
   ],
   "source": [
    "display(str3.splitlines(),\n",
    "        str3.join([str3, str3, str3]))"
   ]
  },
  {
   "source": [
    "### Finding and Replacing\n",
    "\n"
   ],
   "cell_type": "markdown",
   "metadata": {}
  },
  {
   "source": [
    "---\n",
    "### docs"
   ],
   "cell_type": "markdown",
   "metadata": {}
  }
 ]
}