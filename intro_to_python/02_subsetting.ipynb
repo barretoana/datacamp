{
 "metadata": {
  "language_info": {
   "codemirror_mode": {
    "name": "ipython",
    "version": 3
   },
   "file_extension": ".py",
   "mimetype": "text/x-python",
   "name": "python",
   "nbconvert_exporter": "python",
   "pygments_lexer": "ipython3",
   "version": "3.8.3-final"
  },
  "orig_nbformat": 2,
  "kernelspec": {
   "name": "python_defaultSpec_1600120348367",
   "display_name": "Python 3.8.3 64-bit"
  }
 },
 "nbformat": 4,
 "nbformat_minor": 2,
 "cells": [
  {
   "cell_type": "markdown",
   "metadata": {},
   "source": [
    "## introduction \n",
    "# to Python\n",
    "\n",
    "\n",
    "---\n",
    "previously we looked at some cool libs. now we are going to check out some subsetting techniques in pandas\n"
   ]
  },
  {
   "source": [
    "subsetting in pandas\n",
    "\n",
    "\n",
    "## * label name\n",
    "* you can subset a dataframe using the column name,like so ↓\n"
   ],
   "cell_type": "markdown",
   "metadata": {}
  },
  {
   "cell_type": "code",
   "execution_count": 22,
   "metadata": {
    "tags": []
   },
   "outputs": [
    {
     "output_type": "stream",
     "name": "stdout",
     "text": "the onebracketter:\n<class 'pandas.core.series.Series'> (10, 1)\nthe twobracketter:\n<class 'pandas.core.frame.DataFrame'> (10, 1)\n"
    }
   ],
   "source": [
    "import pandas as pd             #huh, guess we just gotta keep doing this then \n",
    "\n",
    "df = pd.DataFrame({'column_1': [0, 1, 2, 3, 4, 5, 6, 7, 8, 9], \n",
    "                   'column_2': [0, 2, 4, 6, 8, 10, 12, 14, 16, 18]}) #just creating a dataframe by hand, you know, live cavepeople did\n",
    "\n",
    "a_series = df['column_1'] #like this returns a series\n",
    "print(\"the onebracketter:\") \n",
    "print(type(a_series), a_dataframe.shape)\n",
    "\n",
    "print(\"the twobracketter:\")\n",
    "a_dataframe = df[['column_1']] #like this returns a dataframe\n",
    "print(type(a_dataframe), a_dataframe.shape)"
   ]
  },
  {
   "source": [
    "> *those cool names though huh? yeah of course i thought of that myself*\n",
    "\n",
    "<br>\n",
    "\n",
    "## * **loc** - label based slicing <br>\n"
   ],
   "cell_type": "markdown",
   "metadata": {}
  },
  {
   "cell_type": "code",
   "execution_count": 23,
   "metadata": {},
   "outputs": [
    {
     "output_type": "display_data",
     "data": {
      "text/plain": "0    0\n1    2\n2    4\n3    6\nName: column_2, dtype: int64"
     },
     "metadata": {}
    }
   ],
   "source": [
    "\n",
    "display(df.loc[:3,'column_2']) # .loc\\['row','columns'] -> as series \n"
   ]
  },
  {
   "cell_type": "code",
   "execution_count": 24,
   "metadata": {},
   "outputs": [
    {
     "output_type": "display_data",
     "data": {
      "text/plain": "   column_2\n0         0\n1         2\n2         4\n3         6",
      "text/html": "<div>\n<style scoped>\n    .dataframe tbody tr th:only-of-type {\n        vertical-align: middle;\n    }\n\n    .dataframe tbody tr th {\n        vertical-align: top;\n    }\n\n    .dataframe thead th {\n        text-align: right;\n    }\n</style>\n<table border=\"1\" class=\"dataframe\">\n  <thead>\n    <tr style=\"text-align: right;\">\n      <th></th>\n      <th>column_2</th>\n    </tr>\n  </thead>\n  <tbody>\n    <tr>\n      <th>0</th>\n      <td>0</td>\n    </tr>\n    <tr>\n      <th>1</th>\n      <td>2</td>\n    </tr>\n    <tr>\n      <th>2</th>\n      <td>4</td>\n    </tr>\n    <tr>\n      <th>3</th>\n      <td>6</td>\n    </tr>\n  </tbody>\n</table>\n</div>"
     },
     "metadata": {}
    }
   ],
   "source": [
    "display(df.loc[:3,['column_2']])  # .loc\\[\\['rows'],\\['columns']] -> as dataframes"
   ]
  },
  {
   "source": [
    "## * **iloc** - index based slicing"
   ],
   "cell_type": "markdown",
   "metadata": {}
  },
  {
   "cell_type": "code",
   "execution_count": 25,
   "metadata": {},
   "outputs": [
    {
     "output_type": "display_data",
     "data": {
      "text/plain": "0    0\n1    2\n2    4\nName: column_2, dtype: int64"
     },
     "metadata": {}
    }
   ],
   "source": [
    "display(df.iloc[:3, 1]) # as series"
   ]
  },
  {
   "cell_type": "code",
   "execution_count": 26,
   "metadata": {},
   "outputs": [
    {
     "output_type": "display_data",
     "data": {
      "text/plain": "   column_1  column_2\n0         0         0\n1         1         2\n2         2         4",
      "text/html": "<div>\n<style scoped>\n    .dataframe tbody tr th:only-of-type {\n        vertical-align: middle;\n    }\n\n    .dataframe tbody tr th {\n        vertical-align: top;\n    }\n\n    .dataframe thead th {\n        text-align: right;\n    }\n</style>\n<table border=\"1\" class=\"dataframe\">\n  <thead>\n    <tr style=\"text-align: right;\">\n      <th></th>\n      <th>column_1</th>\n      <th>column_2</th>\n    </tr>\n  </thead>\n  <tbody>\n    <tr>\n      <th>0</th>\n      <td>0</td>\n      <td>0</td>\n    </tr>\n    <tr>\n      <th>1</th>\n      <td>1</td>\n      <td>2</td>\n    </tr>\n    <tr>\n      <th>2</th>\n      <td>2</td>\n      <td>4</td>\n    </tr>\n  </tbody>\n</table>\n</div>"
     },
     "metadata": {}
    }
   ],
   "source": [
    "display(df.iloc[[0, 1, 2]]) #as dataframes"
   ]
  },
  {
   "source": [
    "---\n",
    "### docs\n",
    "\n",
    "Indexing and selecting data https://pandas.pydata.org/pandas-docs/stable/user_guide/indexing.html <br>\n",
    "loc https://pandas.pydata.org/pandas-docs/stable/reference/api/pandas.DataFrame.loc.html <br>\n",
    "iloc https://pandas.pydata.org/pandas-docs/stable/reference/api/pandas.DataFrame.iloc.html"
   ],
   "cell_type": "markdown",
   "metadata": {}
  }
 ]
}