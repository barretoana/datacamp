{
 "metadata": {
  "language_info": {
   "codemirror_mode": {
    "name": "ipython",
    "version": 3
   },
   "file_extension": ".py",
   "mimetype": "text/x-python",
   "name": "python",
   "nbconvert_exporter": "python",
   "pygments_lexer": "ipython3",
   "version": "3.8.3-final"
  },
  "orig_nbformat": 2,
  "kernelspec": {
   "name": "python_defaultSpec_1600121554530",
   "display_name": "Python 3.8.3 64-bit"
  }
 },
 "nbformat": 4,
 "nbformat_minor": 2,
 "cells": [
  {
   "cell_type": "markdown",
   "metadata": {},
   "source": [
    "## introduction \n",
    "# to Python\n",
    "\n",
    "\n",
    "---\n",
    "now that we know how to select things, lets check out some operators"
   ]
  },
  {
   "source": [
    "## comparison operators"
   ],
   "cell_type": "markdown",
   "metadata": {}
  },
  {
   "cell_type": "code",
   "execution_count": 4,
   "metadata": {},
   "outputs": [
    {
     "output_type": "execute_result",
     "data": {
      "text/plain": "True"
     },
     "metadata": {},
     "execution_count": 4
    }
   ],
   "source": [
    "a = 0\n",
    "b = 1\n",
    "\n",
    "a == b\n",
    "a != b\n",
    "\n",
    "a > b\n",
    "a < b \n",
    "a >= b \n",
    "a <= b"
   ]
  },
  {
   "source": [
    "## boolean operators\n",
    "\n"
   ],
   "cell_type": "markdown",
   "metadata": {}
  },
  {
   "cell_type": "code",
   "execution_count": 7,
   "metadata": {},
   "outputs": [
    {
     "output_type": "execute_result",
     "data": {
      "text/plain": "False"
     },
     "metadata": {},
     "execution_count": 7
    }
   ],
   "source": [
    "a and b\n",
    "a or b\n",
    "not b"
   ]
  },
  {
   "source": [
    "### in numpy "
   ],
   "cell_type": "markdown",
   "metadata": {}
  },
  {
   "cell_type": "code",
   "execution_count": null,
   "metadata": {},
   "outputs": [],
   "source": [
    "import numpy as np  # you knew this was coming\n",
    "\n",
    "np.logical_and()\n",
    "np.logical_or()\n",
    "np.logical_not()"
   ]
  },
  {
   "source": [
    "## if... elif ... else \n",
    "\n",
    "yup, that's right. in python we use \"elif\" instead of \"else if\""
   ],
   "cell_type": "markdown",
   "metadata": {}
  },
  {
   "cell_type": "code",
   "execution_count": 11,
   "metadata": {
    "tags": []
   },
   "outputs": [
    {
     "output_type": "stream",
     "name": "stdout",
     "text": "oh yeas\n"
    }
   ],
   "source": [
    "if (a > b):\n",
    "    print ('oh noe')\n",
    "elif (a < b):\n",
    "    print ('oh yeas')\n",
    "else:\n",
    "    print('oh... im neutral actually')"
   ]
  },
  {
   "source": [
    "---\n",
    "### docs"
   ],
   "cell_type": "markdown",
   "metadata": {}
  }
 ]
}