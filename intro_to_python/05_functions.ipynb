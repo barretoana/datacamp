{
 "metadata": {
  "language_info": {
   "codemirror_mode": {
    "name": "ipython",
    "version": 3
   },
   "file_extension": ".py",
   "mimetype": "text/x-python",
   "name": "python",
   "nbconvert_exporter": "python",
   "pygments_lexer": "ipython3",
   "version": "3.8.3-final"
  },
  "orig_nbformat": 2,
  "kernelspec": {
   "name": "python_defaultSpec_1600220154716",
   "display_name": "Python 3.8.3 64-bit"
  }
 },
 "nbformat": 4,
 "nbformat_minor": 2,
 "cells": [
  {
   "cell_type": "markdown",
   "metadata": {},
   "source": [
    "## introduction \n",
    "# to Python\n",
    "\n",
    "\n",
    "---\n"
   ]
  },
  {
   "source": [
    "### functions \n",
    "\n",
    "this is the basic function declaration:\n",
    "\n",
    "```python\n",
    "def name(parameter): <br>\n",
    "    #body\n",
    "    return something #when needed\n",
    "```\n",
    "\n",
    "and to call it, just use \n",
    "\n",
    "```python\n",
    "name(argument)\n",
    "```\n",
    "\n"
   ],
   "cell_type": "markdown",
   "metadata": {}
  },
  {
   "cell_type": "code",
   "execution_count": 3,
   "metadata": {
    "tags": []
   },
   "outputs": [
    {
     "output_type": "stream",
     "name": "stdout",
     "text": "4\n"
    }
   ],
   "source": [
    "def n_squared(n):\n",
    "    ''' squares and returns the input number''' # this is a docstring by the way, used to document code\n",
    "    return n * n\n",
    "\n",
    "square_2 = n_squared(2)\n",
    "print(square_2)\n"
   ]
  },
  {
   "source": [
    "functions that don't return anything, actually return a NoneType:"
   ],
   "cell_type": "markdown",
   "metadata": {}
  },
  {
   "cell_type": "code",
   "execution_count": 6,
   "metadata": {
    "tags": []
   },
   "outputs": [
    {
     "output_type": "stream",
     "name": "stdout",
     "text": "4\n<class 'NoneType'>\n"
    }
   ],
   "source": [
    "def print_squared(n):\n",
    "    print(n_squared(2))\n",
    "\n",
    "square_4 = print_squared(4)\n",
    "print(type(square_4)) #huh, who knew?"
   ]
  },
  {
   "source": [
    "use tuples, lists or dictionaries to return multiple types"
   ],
   "cell_type": "markdown",
   "metadata": {}
  },
  {
   "cell_type": "code",
   "execution_count": 8,
   "metadata": {
    "tags": []
   },
   "outputs": [
    {
     "output_type": "stream",
     "name": "stdout",
     "text": "[0, 5, 10, 15, 20, 25, 30, 35, 40, 45, 50] <class 'list'>\n"
    }
   ],
   "source": [
    "def mult_table(n):\n",
    "    return [n * 0, n * 1, n * 2, n * 3, n * 4, n * 5, n * 6, n * 7, n * 8, n * 9, n * 10]\n",
    "\n",
    "table_5 = mult_table(5)\n",
    "print(table_5, type(table_5))"
   ]
  },
  {
   "source": [
    "### nested functions\n",
    "\n",
    "a function inside a function, like we did in print_squared, were it uses a print function"
   ],
   "cell_type": "markdown",
   "metadata": {}
  },
  {
   "cell_type": "code",
   "execution_count": null,
   "metadata": {},
   "outputs": [],
   "source": [
    "def outter_func(n): \n",
    "    def inner_func(n):\n",
    "        return \n",
    "return "
   ]
  },
  {
   "source": [
    "---\n",
    "### docs\n",
    "What is a 'NoneType' object? - https://stackoverflow.com/questions/21095654/what-is-a-nonetype-object\n"
   ],
   "cell_type": "markdown",
   "metadata": {}
  }
 ]
}